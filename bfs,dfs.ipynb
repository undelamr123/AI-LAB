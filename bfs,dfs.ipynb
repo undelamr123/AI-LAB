{
 "cells": [
  {
   "cell_type": "code",
   "execution_count": 7,
   "id": "67a1ee34",
   "metadata": {},
   "outputs": [
    {
     "name": "stdout",
     "output_type": "stream",
     "text": [
      "0 2 4 3 1 "
     ]
    }
   ],
   "source": [
    "def dfs(graph,start):\n",
    "    explored=[]\n",
    "    frontier=[]\n",
    "    explored.append(start)\n",
    "    frontier.append(start)\n",
    "    while frontier:\n",
    "        node=frontier.pop()\n",
    "        print(node,end=\" \")\n",
    "        for i in graph[node]:\n",
    "            if i not in explored:\n",
    "                explored.append(i)\n",
    "                frontier.append(i)\n",
    "graph={0:[1,2],1:[3],2:[3,4],3:[4],4:[0]}\n",
    "dfs(graph,0)    "
   ]
  },
  {
   "cell_type": "code",
   "execution_count": 11,
   "id": "b63d5295",
   "metadata": {},
   "outputs": [
    {
     "name": "stdout",
     "output_type": "stream",
     "text": [
      "0 2 goal not is found\n",
      "\n"
     ]
    }
   ],
   "source": [
    "def dfs(graph,start,goal):\n",
    "    explored=[]\n",
    "    frontier=[]\n",
    "    explored.append(start)\n",
    "    frontier.append(start)\n",
    "    while frontier:\n",
    "        node=frontier.pop()\n",
    "        print(node,end=\" \")\n",
    "        if node==goal:\n",
    "            print(\"goal not is found\\n\")\n",
    "            break\n",
    "        for i in graph[node]:\n",
    "            if i not in explored:\n",
    "                explored.append(i)\n",
    "                frontier.append(i)\n",
    "graph={0:[1,2],1:[3],2:[3,4],3:[4],4:[0]}\n",
    "dfs(graph,0,2)    "
   ]
  },
  {
   "cell_type": "code",
   "execution_count": 14,
   "id": "9cd5da78",
   "metadata": {},
   "outputs": [
    {
     "name": "stdout",
     "output_type": "stream",
     "text": [
      "0 1 2 goal node found \n",
      "\n"
     ]
    }
   ],
   "source": [
    "def bfs(graph,start,goal):\n",
    "    explored=[]\n",
    "    frontier=[]\n",
    "    explored.append(start)\n",
    "    frontier.append(start)\n",
    "    while frontier:\n",
    "        node=frontier.pop(0)\n",
    "        print(node,end=\" \")\n",
    "        if node==goal:\n",
    "            print(\"goal node found \\n\")\n",
    "            break\n",
    "        for i in graph[node]:\n",
    "            if i not in explored:\n",
    "                explored.append(i)\n",
    "                frontier.append(i)\n",
    "graph={0:[1,2],1:[3],2:[3,4],3:[4],4:[0]}\n",
    "bfs(graph,0,2)    "
   ]
  },
  {
   "cell_type": "code",
   "execution_count": 18,
   "id": "e37fb822",
   "metadata": {},
   "outputs": [
    {
     "name": "stdout",
     "output_type": "stream",
     "text": [
      "Enter the depth limit: 2\n",
      "A C G \n",
      "Goal found!\n"
     ]
    }
   ],
   "source": [
    "def dls(graph, start, goal, depth):\n",
    "    explored = []\n",
    "    frontier = []\n",
    "    explored.append(start)\n",
    "    frontier.append((start, 0))\n",
    "    while frontier:\n",
    "        node, level = frontier.pop()\n",
    "        print(node, end=\" \")\n",
    "        if node == goal or level == depth:\n",
    "            if node == goal:\n",
    "                print(\"\\nGoal found!\")\n",
    "            else:\n",
    "                print(\"\\nDepth limit reached!\")\n",
    "            break\n",
    "        if level < depth:\n",
    "            for i in graph[node]:\n",
    "                if i not in explored:\n",
    "                    explored.append(i)\n",
    "                    frontier.append((i, level + 1))\n",
    "\n",
    "graph = {'A':['B','C'],'B':['D','E'],'C':['F','G'],'D':['H','I'],'E':['J','K'],'F':['L','M'],'G':['N','O'],'H':[],'I':[],'J':[],\n",
    "        'K':[],'L':[],'M':[],'N':[],'O':[]}\n",
    "depth_limit = int(input(\"Enter the depth limit: \"))\n",
    "dls(graph,'A','G', depth_limit)\n"
   ]
  },
  {
   "cell_type": "code",
   "execution_count": null,
   "id": "caf88be6",
   "metadata": {},
   "outputs": [],
   "source": []
  }
 ],
 "metadata": {
  "kernelspec": {
   "display_name": "Python 3 (ipykernel)",
   "language": "python",
   "name": "python3"
  },
  "language_info": {
   "codemirror_mode": {
    "name": "ipython",
    "version": 3
   },
   "file_extension": ".py",
   "mimetype": "text/x-python",
   "name": "python",
   "nbconvert_exporter": "python",
   "pygments_lexer": "ipython3",
   "version": "3.11.3"
  }
 },
 "nbformat": 4,
 "nbformat_minor": 5
}
