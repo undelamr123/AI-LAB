{
 "cells": [
  {
   "cell_type": "code",
   "execution_count": 7,
   "id": "f503f62e",
   "metadata": {},
   "outputs": [
    {
     "name": "stdout",
     "output_type": "stream",
     "text": [
      "enter the jug1 value5\n",
      "enter the jug2 value4\n",
      "enter the amount3\n",
      "Steps: \n",
      "0 0\n",
      "5 0\n",
      "5 4\n",
      "0 4\n",
      "4 0\n",
      "4 4\n",
      "5 3\n",
      "0 3\n",
      "{(4, 4), (4, 0), (0, 4), (0, 0), (5, 4), (5, 0)}\n"
     ]
    }
   ],
   "source": [
    "jug1=int(input(\"enter the jug1 value\"))\n",
    "jug2=int(input(\"enter the jug2 value\"))\n",
    "aim=int(input(\"enter the amount\"))\n",
    "visited = []\n",
    "ex=[]\n",
    "def waterJugSolver(amt1, amt2): \n",
    "    if (amt1 == aim and amt2 == 0) or (amt2 == aim and amt1 == 0):\n",
    "        print(amt1, amt2)\n",
    "        return True\n",
    "    if (amt1, amt2) not in visited:\n",
    "        print(amt1, amt2)\n",
    "        visited.append((amt1, amt2))\n",
    "        return (waterJugSolver(0, amt2) or\n",
    "                waterJugSolver(amt1, 0) or\n",
    "                waterJugSolver(jug1, amt2) or\n",
    "                waterJugSolver(amt1, jug2) or\n",
    "                waterJugSolver(amt1 + min(amt2, (jug1-amt1)),\n",
    "                amt2 - min(amt2, (jug1-amt1))) or\n",
    "                waterJugSolver(amt1 - min(amt1, (jug2-amt2)),\n",
    "                amt2 + min(amt1, (jug2-amt2))))\n",
    "    else:\n",
    "        ex.append((amt1,amt2))\n",
    "        return False\n",
    "print(\"Steps: \")\n",
    "waterJugSolver(0,0)\n",
    "print(set(ex))"
   ]
  },
  {
   "cell_type": "code",
   "execution_count": null,
   "id": "8fa27e7d",
   "metadata": {},
   "outputs": [],
   "source": []
  }
 ],
 "metadata": {
  "kernelspec": {
   "display_name": "Python 3 (ipykernel)",
   "language": "python",
   "name": "python3"
  },
  "language_info": {
   "codemirror_mode": {
    "name": "ipython",
    "version": 3
   },
   "file_extension": ".py",
   "mimetype": "text/x-python",
   "name": "python",
   "nbconvert_exporter": "python",
   "pygments_lexer": "ipython3",
   "version": "3.11.3"
  }
 },
 "nbformat": 4,
 "nbformat_minor": 5
}
