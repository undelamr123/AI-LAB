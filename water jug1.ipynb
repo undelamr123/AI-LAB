{
 "cells": [
  {
   "cell_type": "code",
   "execution_count": 7,
   "id": "017061b1",
   "metadata": {},
   "outputs": [
    {
     "name": "stdout",
     "output_type": "stream",
     "text": [
      "(0, 0)\n",
      "(0, 3)\n",
      "(3, 0)\n",
      "(3, 3)\n",
      "(4, 2)\n"
     ]
    }
   ],
   "source": [
    "from collections import deque\n",
    "\n",
    "def waterJugSolverBFS(jug1, jug2, aim):\n",
    "    queue = deque([(0, 0)])\n",
    "    visited = set([(0, 0)])\n",
    "    parents = {}\n",
    "\n",
    "    while queue:\n",
    "        current_state = queue.popleft()\n",
    "        amt1, amt2 = current_state\n",
    "\n",
    "        if amt1 == aim or amt2 == aim:\n",
    "            steps = []\n",
    "            while current_state != (0, 0):\n",
    "                steps.append(current_state)\n",
    "                current_state = parents[current_state]\n",
    "            steps.append((0, 0))\n",
    "            steps.reverse()\n",
    "            return steps\n",
    "\n",
    "        next_states = [\n",
    "            (jug1, amt2),  \n",
    "            (amt1, jug2),  \n",
    "            (0, amt2),     \n",
    "            (amt1, 0),     \n",
    "            (min(jug1, amt1 + amt2), max(0, amt1 + amt2 - jug1)),  \n",
    "            (max(0, amt1 + amt2 - jug2), min(jug2, amt1 + amt2))   \n",
    "        ]\n",
    "\n",
    "        for state in next_states:\n",
    "            if state not in visited:\n",
    "                queue.append(state)\n",
    "                visited.add(state)\n",
    "                parents[state] = current_state\n",
    "\n",
    "    return None\n",
    "\n",
    "# Example usage:\n",
    "jug1_capacity = 4\n",
    "jug2_capacity = 3\n",
    "desired_quantity = 2\n",
    "\n",
    "solution = waterJugSolverBFS(jug1_capacity, jug2_capacity, desired_quantity)\n",
    "if solution:\n",
    "    for step in solution:\n",
    "        print(step)\n",
    "else:\n",
    "    print(\"No solution found.\")"
   ]
  },
  {
   "cell_type": "code",
   "execution_count": null,
   "id": "48665330",
   "metadata": {},
   "outputs": [],
   "source": []
  },
  {
   "cell_type": "code",
   "execution_count": null,
   "id": "b825e796",
   "metadata": {},
   "outputs": [],
   "source": []
  }
 ],
 "metadata": {
  "kernelspec": {
   "display_name": "Python 3 (ipykernel)",
   "language": "python",
   "name": "python3"
  },
  "language_info": {
   "codemirror_mode": {
    "name": "ipython",
    "version": 3
   },
   "file_extension": ".py",
   "mimetype": "text/x-python",
   "name": "python",
   "nbconvert_exporter": "python",
   "pygments_lexer": "ipython3",
   "version": "3.9.7"
  }
 },
 "nbformat": 4,
 "nbformat_minor": 5
}
